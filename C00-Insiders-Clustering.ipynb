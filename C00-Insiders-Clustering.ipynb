{
 "cells": [
  {
   "cell_type": "markdown",
   "id": "0eb28609",
   "metadata": {},
   "source": [
    "# PROJETO INSIDERS CLUSTERING"
   ]
  },
  {
   "cell_type": "markdown",
   "id": "90c96e64",
   "metadata": {},
   "source": [
    "# 0.0 Planejamento da Solução (IOT)"
   ]
  },
  {
   "cell_type": "markdown",
   "id": "ec7c4665",
   "metadata": {},
   "source": [
    "## Input - Entrada"
   ]
  },
  {
   "cell_type": "markdown",
   "id": "0b45b820",
   "metadata": {},
   "source": [
    "1. Problema de Negócio\n",
    "\n",
    " - Selecionar os clientes mais valiosos para integrar um programa de Fidelização;\n",
    " \n",
    " \n",
    "2. Conjunto de Dados\n",
    "\n",
    " - Vendas de um e-commerce online, durante o período de um ano."
   ]
  },
  {
   "cell_type": "markdown",
   "id": "ea6ded25",
   "metadata": {},
   "source": [
    "## Output - Saída"
   ]
  },
  {
   "cell_type": "markdown",
   "id": "07324669",
   "metadata": {},
   "source": [
    "1. A indicação das pessoas que farão parte do programa de Insiders:\n",
    "\n",
    "  - Lista com o id_cliente e a classe se pertence ou não ao grupo de insiders.\n",
    "  \n",
    "  \n",
    "2. Relatório com as respostas das perguntas de negócio:\n",
    "\n",
    "  - Quem são as pessoas elegíveis para participar do programa de Insiders ?\n",
    "  - Quantos clientes farão parte do grupo?\n",
    "  - Quais as principais características desses clientes ?\n",
    "  - Qual a porcentagem de contribuição do faturamento, vinda do Insiders ?\n",
    "  - Qual a expectativa de faturamento desse grupo para os próximos meses ?\n",
    "  - Quais as condições para uma pessoa ser elegível ao Insiders ?\n",
    "  - Quais as condições para uma pessoa ser removida do Insiders ?\n",
    "  - Qual a garantia que o programa Insiders é melhor que o restante da base ?\n",
    "  - Quais ações o time de marketing pode realizar para aumentar o faturamento?"
   ]
  },
  {
   "cell_type": "markdown",
   "id": "ccdd9206",
   "metadata": {},
   "source": [
    "## Tasks - Tarefas"
   ]
  },
  {
   "cell_type": "markdown",
   "id": "9e5bb7e7",
   "metadata": {},
   "source": [
    "1. Quem são as pessoas elegíveis para participar do programa de Insiders ?\n",
    "\n",
    "  - O que é ser elegível? O que são clientes de maior \"valor\"?\n",
    "  - Avaliar clientes em relação ao\n",
    "    - Faturamento: \n",
    "           - Alto ticket médio;\n",
    "           - Alto LTV; \n",
    "           - Baixa recência; \n",
    "           - Alto basket size;\n",
    "           - Baixa probabilidade de churn;\n",
    "           - Alta propensão de compra.\n",
    "       \n",
    "    - Custo:  \n",
    "           - Baixa taxa de devolução.\n",
    "           \n",
    "    - Experiência de compra:  \n",
    "           - Média alta das avaliações.\n",
    "\n",
    "2. Quantos clientes farão parte do grupo?\n",
    "\n",
    "  - Número total de clientes;\n",
    "  - Representatividade do grupo Insiders.\n",
    "  \n",
    "\n",
    "3. Quais as principais características desses clientes?\n",
    "\n",
    "  - Características do cliente:\n",
    "    - Idade;\n",
    "    - Localização;\n",
    "    - Gênero.\n",
    "    \n",
    "   - Características do consumo:\n",
    "    - Atributos da clusterização.\n",
    "\n",
    "\n",
    "4. Qual a porcentagem de contribuição do faturamento, vinda do Insiders?\n",
    "\n",
    "  - Faturamento total do ano;\n",
    "  - Faturamento vindo dos insiders.\n",
    "\n",
    "\n",
    "5. Qual a expectativa de faturamento desse grupo para os próximos meses?\n",
    "\n",
    "  - LTV do grupo Insiders;\n",
    "  - Análise de Cohort.  \n",
    "\n",
    "\n",
    "6. Quais as condições para uma pessoa ser elegível ao Insiders?\n",
    "\n",
    "  - Definir periodicidade de execução do modelo;\n",
    "  - A pessoa precisa ser similar ou parecido com o grupo Insiders.\n",
    "  \n",
    "\n",
    "7. Quais as condições para uma pessoa ser removida do Insiders?\n",
    "\n",
    "  - Definir a periodicidade;\n",
    "  - A pessoa precisa ser dissimilar ou não parecido com o grupo Insiders.\n",
    "\n",
    "\n",
    "8. Qual a garantia que o programa Insiders é melhor que o restante da base?\n",
    "\n",
    "  - Teste A/B;\n",
    "  - Teste A/B Bayesiano;\n",
    "  - Teste de hipóteses.\n",
    "\n",
    "\n",
    "9. Quais ações o time de marketing pode realizar para aumentar o faturamento?\n",
    "\n",
    "  - Desconto;\n",
    "  - Preferência de compra;\n",
    "  - Frete grátis."
   ]
  },
  {
   "cell_type": "markdown",
   "id": "b55563f4",
   "metadata": {},
   "source": [
    "## Bechmarking de Soluções"
   ]
  },
  {
   "cell_type": "markdown",
   "id": "855b5a6a",
   "metadata": {},
   "source": [
    "### Desk Research"
   ]
  },
  {
   "cell_type": "code",
   "execution_count": null,
   "id": "bef6c705",
   "metadata": {},
   "outputs": [],
   "source": []
  },
  {
   "cell_type": "code",
   "execution_count": null,
   "id": "14da86b8",
   "metadata": {},
   "outputs": [],
   "source": []
  },
  {
   "cell_type": "code",
   "execution_count": null,
   "id": "3b102ef9",
   "metadata": {},
   "outputs": [],
   "source": []
  },
  {
   "cell_type": "code",
   "execution_count": null,
   "id": "1354580b",
   "metadata": {},
   "outputs": [],
   "source": []
  },
  {
   "cell_type": "code",
   "execution_count": null,
   "id": "fa2a143f",
   "metadata": {},
   "outputs": [],
   "source": []
  },
  {
   "cell_type": "code",
   "execution_count": null,
   "id": "387295ca",
   "metadata": {},
   "outputs": [],
   "source": []
  },
  {
   "cell_type": "code",
   "execution_count": null,
   "id": "d3a13334",
   "metadata": {},
   "outputs": [],
   "source": []
  }
 ],
 "metadata": {
  "kernelspec": {
   "display_name": "Python 3 (ipykernel)",
   "language": "python",
   "name": "python3"
  },
  "language_info": {
   "codemirror_mode": {
    "name": "ipython",
    "version": 3
   },
   "file_extension": ".py",
   "mimetype": "text/x-python",
   "name": "python",
   "nbconvert_exporter": "python",
   "pygments_lexer": "ipython3",
   "version": "3.8.11"
  }
 },
 "nbformat": 4,
 "nbformat_minor": 5
}
